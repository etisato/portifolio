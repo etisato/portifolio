{
  "nbformat": 4,
  "nbformat_minor": 0,
  "metadata": {
    "colab": {
      "provenance": [],
      "authorship_tag": "ABX9TyMxEQMUJv7KN95snc7rsHrG",
      "include_colab_link": true
    },
    "kernelspec": {
      "name": "python3",
      "display_name": "Python 3"
    },
    "language_info": {
      "name": "python"
    }
  },
  "cells": [
    {
      "cell_type": "markdown",
      "metadata": {
        "id": "view-in-github",
        "colab_type": "text"
      },
      "source": [
        "<a href=\"https://colab.research.google.com/github/etisato/portifolio/blob/main/Change_database_A_04.ipynb\" target=\"_parent\"><img src=\"https://colab.research.google.com/assets/colab-badge.svg\" alt=\"Open In Colab\"/></a>"
      ]
    },
    {
      "cell_type": "markdown",
      "source": [
        "# New Section"
      ],
      "metadata": {
        "id": "YqX9nGrWMHQV"
      }
    },
    {
      "cell_type": "code",
      "source": [
        "#Creation Eduardo Tisato\n",
        "#Date: 16 Jan 2024\n",
        "#Ver A.03\n",
        "\n",
        "#The objective is create a code able to clean a random database export.\n",
        "#It will be used for a KPI and database analysis\n",
        "\n",
        "# New Version A.02\n",
        "    # Delete rows where Harness contains \"+EL|\\+PL\"\n",
        "    # Splitting improvement between Project Name and Car Name in Column Project\n",
        "\n",
        "# New Version A.03\n",
        "    #New rules to delete |\\+GCL|\\+GCR|\\+LVB|\\+CCC|\\+DDE|\\+RP1|\\+RP2|\\+RP3\n",
        "    #Verify the if supplier length is acceptable\n",
        "    #Added df = df.dropna(subset=['Length (m)'])"
      ],
      "metadata": {
        "id": "n7kDJsnDMK3v"
      },
      "execution_count": 1,
      "outputs": []
    },
    {
      "cell_type": "code",
      "source": [
        "#Historic formules used:\n",
        "\n",
        "#Formula used before for CSV File :\n",
        "    # df = pd.read_csv(file_path, delimiter=';')\n",
        "\n",
        "##Formula used before for CSV File :\n",
        "    #Step: Replacing ',' to '.'\n",
        "    #df['Length (m)'] = df['Length (m)'].str.replace('.', ',')\n",
        "    #df['Height (m)'] = df['Height (m)'].str.replace('.', ',')\n",
        "\n",
        "#General\n",
        "    #print(df.head())\n",
        "    #print (type(df))\n",
        "    #print(df.iloc[0:16])\n",
        "    #df"
      ],
      "metadata": {
        "id": "5dmLPEgkYS97"
      },
      "execution_count": 2,
      "outputs": []
    },
    {
      "cell_type": "code",
      "source": [
        "#Importing Pandas and Numpy to threat data in Python\n",
        "import pandas as pd\n",
        "import numpy as np\n",
        "\n",
        "# Step: Read Excel file and save it in dataframe\n",
        "file_path = '/SMARTMETRO2_MF_08-Jigboard Size (4).xlsx'\n",
        "\n",
        "df = pd.read_excel(file_path)"
      ],
      "metadata": {
        "id": "jyfkB5ceT3r4"
      },
      "execution_count": 3,
      "outputs": []
    },
    {
      "cell_type": "code",
      "source": [
        "col_names = df.columns.tolist()\n",
        "print (col_names)"
      ],
      "metadata": {
        "id": "WYgEZuP4WWVQ"
      },
      "execution_count": null,
      "outputs": []
    },
    {
      "cell_type": "code",
      "source": [
        "#file_path2 = '/content/DSB SUPPLIERS.xlsx'\n",
        "\n",
        "##df2 = pd.read_excel(file_path2)\n",
        "#df2 = df2.reset_index(drop=True)\n",
        "#df2"
      ],
      "metadata": {
        "id": "WX3ZhpKDg5GM"
      },
      "execution_count": 5,
      "outputs": []
    },
    {
      "cell_type": "code",
      "source": [
        "# Step: To be sure of the object types, I faced some issues in next formules when not used.\n",
        "df['Project'] = df['Project'].astype(str)\n",
        "df['Project'] = df['Project'].replace('nan', 'NaN')\n",
        "df['Length (m)'] = df['Length (m)'].astype(float)\n",
        "df['Height (m)'] = df['Height (m)'].astype(float)"
      ],
      "metadata": {
        "id": "eH7nvOueMP5P"
      },
      "execution_count": 6,
      "outputs": []
    },
    {
      "cell_type": "code",
      "source": [
        "# Delete rows where values are NaN in column 'Harness'\n",
        "df = df.dropna(subset=['Harness'])\n",
        "df = df.dropna(subset=['Project'])\n",
        "df = df.dropna(subset=['Sol Indus'])\n",
        "df = df.dropna(subset=['Length (m)'])"
      ],
      "metadata": {
        "id": "THfb0XVfuHYQ"
      },
      "execution_count": 7,
      "outputs": []
    },
    {
      "cell_type": "code",
      "source": [
        "# Delete rows where Harness contains \"+EL|\\+PL\"\n",
        "delete_el = df['Harness'].str.contains('\\+EL|\\+PL|\\+GCL|\\+GCR|\\+LVB|\\+CCC|\\+DDE|\\+RP1|\\+RP2|\\+RP3', regex=True)\n",
        "# Drop the rows that meet the condition\n",
        "df = df.drop(df[delete_el].index)"
      ],
      "metadata": {
        "id": "zIEX3y4jYAWq"
      },
      "execution_count": 8,
      "outputs": []
    },
    {
      "cell_type": "code",
      "source": [
        "# Delete rows where Project contains \"TLS\"\n",
        "delete_el2 = df['Project'].str.contains('TLS', regex=True)\n",
        "# Drop the rows that meet the condition\n",
        "df = df.drop(df[delete_el2].index)"
      ],
      "metadata": {
        "id": "eYxLevWyXe8j"
      },
      "execution_count": 9,
      "outputs": []
    },
    {
      "cell_type": "code",
      "source": [
        "# Delete rows where Project contains \"Obsolete\"\n",
        "delete_el2 = df['Harness Indus'].str.contains('Obsolete', regex=True)\n",
        "# Drop the rows that meet the condition\n",
        "df = df.drop(df[delete_el2].index)\n",
        "# Print the modified DataFrame\n",
        "#print(df)"
      ],
      "metadata": {
        "id": "uimwljHuuBjH"
      },
      "execution_count": 10,
      "outputs": []
    },
    {
      "cell_type": "code",
      "source": [
        "# Select and reorder columns\n",
        "#columns = ['Project', 'Harness','Solution Eng','Version Eng','Sol Indus','Ver Indus','Length (m)', 'Height (m)']\n",
        "columns = ['Harness', 'Project', 'PH PartNumber', 'Solution Eng', 'Version Eng', 'Harness Eng Status', 'Creation Date Eng', 'Sol Indus', 'Ver Indus', 'Length (m)', 'Height (m)', 'Harness Indus', 'Creation Date', 'Last Update - Date']\n",
        "df = df.loc[:, columns]\n",
        "df"
      ],
      "metadata": {
        "id": "AwDpzHWWJCeP"
      },
      "execution_count": null,
      "outputs": []
    },
    {
      "cell_type": "code",
      "source": [
        "#Replacement_DSB:\n",
        "#df['Project'] = df['Project'].str.replace(',DSB', '')\n",
        "#df[95:99]\n"
      ],
      "metadata": {
        "id": "g59WrTuZRt9u"
      },
      "execution_count": 12,
      "outputs": []
    },
    {
      "cell_type": "code",
      "source": [
        "# Split naming from column Project to have new two columns \"Project Name and Car Name\"\n",
        "#df[['Project Name', 'Car Name']] = df['Project'].str.split('_', n=1, expand=True)\n",
        "\n",
        "\n",
        "#df[95:99]"
      ],
      "metadata": {
        "id": "plbLc9zLbORu"
      },
      "execution_count": 13,
      "outputs": []
    },
    {
      "cell_type": "code",
      "source": [
        "# Define a dictionary to store the CAR LENGTH values\n",
        "#car_lengths = {\n",
        "#    ('LNVG', 'A01'): 28.3,\n",
        "#    ('LNVG', 'B01'): 24.1,\n",
        "#    ('LNVG', 'A02'): 28.3,\n",
        "#    ('LNVG', 'B02'): 24.1,\n",
        "#    ('DSB', 'DC1'): 28.3,\n",
        "#    ('DSB', 'EC1'): 24.1,\n",
        "#    ('DSB', 'EC2'): 24.1,\n",
        "#    ('DSB', 'IC1'): 28.3,\n",
        "#    ('DSB', 'DC2'): 26.8,\n",
        "#    ('DSB', 'DC2_DC1'): 26.8,\n",
        "#    ('DSB', 'DC1_DC2'): 26.8\n",
        "#}\n",
        "# Loop through the dictionary and set the values in the DataFrame\n",
        "#for key, value in car_lengths.items():\n",
        "#    condition = (df['Project Name'] == key[0]) & (df['Car Name'] == key[1])\n",
        "#    df.loc[condition, 'CAR LENGTH'] = value\n",
        "\n",
        "# Fill NaN in CAR LENGTH column with 0\n",
        "#df['CAR LENGTH'] = df['CAR LENGTH'].fillna(0)"
      ],
      "metadata": {
        "id": "G4G4esDEXjoq"
      },
      "execution_count": 14,
      "outputs": []
    },
    {
      "cell_type": "code",
      "source": [
        "# Save file in Excel\n",
        "df.to_excel('/content/Result.xlsx', index=False)\n",
        "\n",
        "print('File done!')"
      ],
      "metadata": {
        "colab": {
          "base_uri": "https://localhost:8080/"
        },
        "id": "s2oAQvweLyF0",
        "outputId": "2b5221fd-5263-425c-b32a-6549ea61ac63"
      },
      "execution_count": 15,
      "outputs": [
        {
          "output_type": "stream",
          "name": "stdout",
          "text": [
            "File done!\n"
          ]
        }
      ]
    }
  ]
}