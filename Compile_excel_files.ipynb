{
  "nbformat": 4,
  "nbformat_minor": 0,
  "metadata": {
    "colab": {
      "provenance": [],
      "authorship_tag": "ABX9TyPWKRXCdY0JlTIV3fW8WEGA",
      "include_colab_link": true
    },
    "kernelspec": {
      "name": "python3",
      "display_name": "Python 3"
    },
    "language_info": {
      "name": "python"
    }
  },
  "cells": [
    {
      "cell_type": "markdown",
      "metadata": {
        "id": "view-in-github",
        "colab_type": "text"
      },
      "source": [
        "<a href=\"https://colab.research.google.com/github/etisato/portifolio/blob/main/Compile_excel_files.ipynb\" target=\"_parent\"><img src=\"https://colab.research.google.com/assets/colab-badge.svg\" alt=\"Open In Colab\"/></a>"
      ]
    },
    {
      "cell_type": "code",
      "execution_count": null,
      "metadata": {
        "id": "LEU9A4qvJ8D6"
      },
      "outputs": [],
      "source": [
        "#Creation Eduardo Tisato\n",
        "#Date: 20 Mars 2024\n",
        "#Ver A.00\n",
        "#Code to compile different excel files in the same folder in an unique one\n",
        "\n",
        "import os\n",
        "import pandas as pd\n",
        "\n",
        "def compile_excel_files(directory):\n",
        "    # Lista para armazenar os DataFrames de cada arquivo Excel\n",
        "    dfs = []\n",
        "\n",
        "    # Percorre todos os arquivos na pasta especificada\n",
        "    for filename in os.listdir(directory):\n",
        "        if filename.endswith('.xlsx'):  # Verifica se o arquivo é Excel\n",
        "            # Lê o arquivo Excel e armazena em um DataFrame\n",
        "            filepath = os.path.join(directory, filename)\n",
        "            df = pd.read_excel(filepath)\n",
        "            dfs.append(df)\n",
        "\n",
        "    # Concatena os DataFrames em um único DataFrame\n",
        "    compiled_df = pd.concat(dfs, ignore_index=True)\n",
        "\n",
        "    # Cria o nome do arquivo compilado\n",
        "    compiled_filename = os.path.join(directory, '_Compiled.xlsx')\n",
        "\n",
        "    # Escreve o DataFrame consolidado em um novo arquivo Excel\n",
        "    compiled_df.to_excel(compiled_filename, index=False)\n",
        "\n",
        "    print(f'Arquivo compilado \"{compiled_filename}\" criado com sucesso.')\n",
        "\n",
        "compile_excel_files('C:/Users/eusantos/Desktop/Jigboard Size Report Compiled/')"
      ]
    }
  ]
}